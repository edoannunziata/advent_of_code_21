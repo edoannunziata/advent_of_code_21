{
 "cells": [
  {
   "cell_type": "markdown",
   "metadata": {},
   "source": [
    "# Advent of Code 2021"
   ]
  },
  {
   "cell_type": "markdown",
   "metadata": {},
   "source": [
    "> I mean, if 10 years from now, when you are doing something quick and dirty, you suddenly visualize that I am looking over your shoulders and say to yourself \"Dijkstra would not have liked this,\" well, that would be enough immortality for me.\n",
    "\n",
    "-- Edsger W. Dijkstra"
   ]
  },
  {
   "cell_type": "markdown",
   "metadata": {
    "tags": []
   },
   "source": [
    "## Imports and definitions"
   ]
  },
  {
   "cell_type": "code",
   "execution_count": 232,
   "metadata": {},
   "outputs": [],
   "source": [
    "#type: ignore\n",
    "from math import *\n",
    "from collections import Counter\n",
    "from itertools import tee, repeat, count\n",
    "from functools import reduce\n",
    "from statistics import median, mean\n",
    "from dataclasses import dataclass\n",
    "from operator import mul\n",
    "import heapq\n",
    "import numpy as np\n",
    "\n",
    "# Older Pythons don't have this\n",
    "\n",
    "\n",
    "def prod(u): return reduce(mul, u)\n",
    "\n",
    "# Read inputs\n",
    "\n",
    "\n",
    "def inputfunc(day, kind='lines', testing=False):\n",
    "    filename = 'test.txt' if testing else f\"input/{day}.txt\"\n",
    "\n",
    "    def gen(func):\n",
    "        if kind == 'lines':\n",
    "            text = [x.strip() for x in open(filename)]\n",
    "        elif kind == 'chunks':\n",
    "            text = [\n",
    "                x.strip()\n",
    "                for x in open(filename).read().split('\\n\\n')\n",
    "                if x.strip()\n",
    "            ]\n",
    "        elif kind == 'single':\n",
    "            text = open(filename).read().strip()\n",
    "        elif kind == 'raw':\n",
    "            text = open(filename)\n",
    "\n",
    "        def inner():\n",
    "            return func(f=text)\n",
    "        return inner\n",
    "    return gen\n"
   ]
  },
  {
   "cell_type": "markdown",
   "metadata": {
    "jp-MarkdownHeadingCollapsed": true,
    "tags": []
   },
   "source": [
    "## Day 1"
   ]
  },
  {
   "cell_type": "code",
   "execution_count": 233,
   "metadata": {},
   "outputs": [],
   "source": [
    "@inputfunc(1)\n",
    "def input_1(*, f):\n",
    "    return [int(x) for x in f]\n",
    "\n",
    "\n",
    "def count_increasing_slides(a, n):\n",
    "    return sum(1 for x, y in zip(a, a[n:]) if x < y)\n"
   ]
  },
  {
   "cell_type": "code",
   "execution_count": 234,
   "metadata": {},
   "outputs": [
    {
     "data": {
      "text/plain": [
       "1624"
      ]
     },
     "execution_count": 234,
     "metadata": {},
     "output_type": "execute_result"
    }
   ],
   "source": [
    "count_increasing_slides(input_1(), 1)\n"
   ]
  },
  {
   "cell_type": "code",
   "execution_count": 235,
   "metadata": {},
   "outputs": [
    {
     "data": {
      "text/plain": [
       "1653"
      ]
     },
     "execution_count": 235,
     "metadata": {},
     "output_type": "execute_result"
    }
   ],
   "source": [
    "count_increasing_slides(input_1(), 3)\n"
   ]
  },
  {
   "cell_type": "markdown",
   "metadata": {
    "jp-MarkdownHeadingCollapsed": true,
    "tags": []
   },
   "source": [
    "## Day 2"
   ]
  },
  {
   "cell_type": "code",
   "execution_count": 236,
   "metadata": {},
   "outputs": [],
   "source": [
    "@inputfunc(2)\n",
    "def input_2(*, f):\n",
    "    return [(x, int(y)) for x, y in [x.split() for x in f]]\n",
    "\n",
    "\n",
    "def pilot_1(l):\n",
    "    x, y = 0, 0\n",
    "    for c, n in l:\n",
    "        if c == 'forward':\n",
    "            x += n\n",
    "        elif c == 'down':\n",
    "            y += n\n",
    "        elif c == 'up':\n",
    "            y -= n\n",
    "    return x * y\n",
    "\n",
    "\n",
    "def pilot_2(l):\n",
    "    x, y, aim = 0, 0, 0\n",
    "    for c, n in l:\n",
    "        if c == 'forward':\n",
    "            x += n\n",
    "            y += aim * n\n",
    "        elif c == 'down':\n",
    "            aim += n\n",
    "        elif c == 'up':\n",
    "            aim -= n\n",
    "    return x * y\n"
   ]
  },
  {
   "cell_type": "code",
   "execution_count": 237,
   "metadata": {},
   "outputs": [
    {
     "data": {
      "text/plain": [
       "1654760"
      ]
     },
     "execution_count": 237,
     "metadata": {},
     "output_type": "execute_result"
    }
   ],
   "source": [
    "pilot_1(input_2())\n"
   ]
  },
  {
   "cell_type": "code",
   "execution_count": 238,
   "metadata": {},
   "outputs": [
    {
     "data": {
      "text/plain": [
       "1956047400"
      ]
     },
     "execution_count": 238,
     "metadata": {},
     "output_type": "execute_result"
    }
   ],
   "source": [
    "pilot_2(input_2())\n"
   ]
  },
  {
   "cell_type": "markdown",
   "metadata": {
    "jp-MarkdownHeadingCollapsed": true,
    "tags": []
   },
   "source": [
    "## Day 3"
   ]
  },
  {
   "cell_type": "code",
   "execution_count": 239,
   "metadata": {},
   "outputs": [],
   "source": [
    "@inputfunc(3)\n",
    "def input_3(*, f):\n",
    "    return f\n",
    "\n",
    "\n",
    "def power_consumption(l):\n",
    "    N = len(l)\n",
    "    W = len(l[0])\n",
    "    ones_count = [0] * W\n",
    "    for s in l:\n",
    "        for i, c in enumerate(reversed(s)):\n",
    "            if c == '1':\n",
    "                ones_count[i] += 1\n",
    "    gamma = sum(2 ** e for e, b in enumerate(ones_count) if b > N/2)\n",
    "    epsilon = (2 ** W - 1) - gamma\n",
    "    return gamma * epsilon\n",
    "\n",
    "\n",
    "def life_support_rating(l):\n",
    "    def bisect_on(l, predicate):\n",
    "        out_true, out_false = tee((u, predicate(u)) for u in l)\n",
    "        return [u for u, p in out_true if p], [u for u, p in out_false if not p]\n",
    "\n",
    "    # This uses the naive algorithm, it's a literal transcription of the\n",
    "    # actual problem description. A far superior approach would be to\n",
    "    # sort the array of numbers, which can be done in O(n) in a myriad of\n",
    "    # ways (for example repeatedly applying a stable variant of counting-sort).\n",
    "    # At that point, lookups for which segment to keep at each iteration are\n",
    "    # trivial.\n",
    "    # However, because of the problem conditions it just won't matter, both\n",
    "    # run in milliseconds anyway.\n",
    "    def oxygen_generator_rating(l):\n",
    "        index = 0\n",
    "        while len(l) > 1:\n",
    "            zeroes, ones = bisect_on(l, lambda u: u[index] == '0')\n",
    "            l = zeroes if len(zeroes) > len(ones) else ones\n",
    "            index += 1\n",
    "        return int(next(iter(l), None), 2)\n",
    "\n",
    "    def co2_scrubber_rating(l):\n",
    "        index = 0\n",
    "        while len(l) > 1:\n",
    "            zeroes, ones = bisect_on(l, lambda u: u[index] == '0')\n",
    "            l = ones if len(ones) < len(zeroes) else zeroes\n",
    "            index += 1\n",
    "        return int(next(iter(l), None), 2)\n",
    "\n",
    "    return oxygen_generator_rating(l) * co2_scrubber_rating(l)\n"
   ]
  },
  {
   "cell_type": "code",
   "execution_count": 240,
   "metadata": {},
   "outputs": [
    {
     "data": {
      "text/plain": [
       "3320834"
      ]
     },
     "execution_count": 240,
     "metadata": {},
     "output_type": "execute_result"
    }
   ],
   "source": [
    "power_consumption(input_3())\n"
   ]
  },
  {
   "cell_type": "code",
   "execution_count": 241,
   "metadata": {},
   "outputs": [
    {
     "data": {
      "text/plain": [
       "4481199"
      ]
     },
     "execution_count": 241,
     "metadata": {},
     "output_type": "execute_result"
    }
   ],
   "source": [
    "life_support_rating(input_3())\n"
   ]
  },
  {
   "cell_type": "markdown",
   "metadata": {
    "jp-MarkdownHeadingCollapsed": true,
    "tags": []
   },
   "source": [
    "## Day 4"
   ]
  },
  {
   "cell_type": "code",
   "execution_count": 242,
   "metadata": {},
   "outputs": [],
   "source": [
    "class BingoCard:\n",
    "    def __init__(self, m):\n",
    "        self.matrix = m\n",
    "        self.num_rows = len(m)\n",
    "        self.num_cols = len(m[0])\n",
    "        self.hit_by_row = [0] * self.num_rows\n",
    "        self.hit_by_col = [0] * self.num_cols\n",
    "        self.reverse_map = {}\n",
    "        for nr, r in enumerate(m):\n",
    "            for nc, num in enumerate(r):\n",
    "                self.reverse_map[num] = (nr, nc)\n",
    "\n",
    "    def hit_num(self, n):\n",
    "        if n not in self.reverse_map:\n",
    "            return False\n",
    "        nr, nc = self.reverse_map.pop(n)\n",
    "        self.hit_by_row[nr] += 1\n",
    "        if self.hit_by_row[nr] == self.num_cols:\n",
    "            return True\n",
    "        self.hit_by_col[nc] += 1\n",
    "        if self.hit_by_col[nc] == self.num_rows:\n",
    "            return True\n",
    "        return False\n",
    "\n",
    "    def sum_remaining(self):\n",
    "        return sum(x for x in self.reverse_map)\n",
    "\n",
    "\n",
    "@inputfunc(4, kind='chunks')\n",
    "def input_4(*, f):\n",
    "    seq = [int(x) for x in f[0].split(',')]\n",
    "    cards = []\n",
    "    for c in f[1:]:\n",
    "        lines = c.split('\\n')\n",
    "        card = BingoCard([[int(u) for u in v.split()] for v in lines])\n",
    "        cards.append(card)\n",
    "\n",
    "    return cards, seq\n",
    "\n",
    "\n",
    "def play_bingo_1(cards, seq):\n",
    "    for num in seq:\n",
    "        for card in cards:\n",
    "            if card.hit_num(num):\n",
    "                return num * card.sum_remaining()\n",
    "\n",
    "\n",
    "def play_bingo_2(cards, seq):\n",
    "    alive = set(cards)\n",
    "    for num in seq:\n",
    "        hits = set()\n",
    "        for card in alive:\n",
    "            if card.hit_num(num):\n",
    "                if len(alive) == 1:\n",
    "                    return num * card.sum_remaining()\n",
    "                hits.add(card)\n",
    "        alive -= hits\n"
   ]
  },
  {
   "cell_type": "code",
   "execution_count": 243,
   "metadata": {},
   "outputs": [
    {
     "data": {
      "text/plain": [
       "33348"
      ]
     },
     "execution_count": 243,
     "metadata": {},
     "output_type": "execute_result"
    }
   ],
   "source": [
    "play_bingo_1(*input_4())\n"
   ]
  },
  {
   "cell_type": "code",
   "execution_count": 244,
   "metadata": {},
   "outputs": [
    {
     "data": {
      "text/plain": [
       "8112"
      ]
     },
     "execution_count": 244,
     "metadata": {},
     "output_type": "execute_result"
    }
   ],
   "source": [
    "play_bingo_2(*input_4())\n"
   ]
  },
  {
   "cell_type": "markdown",
   "metadata": {
    "jp-MarkdownHeadingCollapsed": true,
    "tags": []
   },
   "source": [
    "## Day 5\n",
    "\n",
    "Disappoitingly, the naive algorithm. I have thought about it for a while and short of reimplementing from scratch a full-blown R Tree-backed database table, I am completely clueless as to how you would solve this."
   ]
  },
  {
   "cell_type": "code",
   "execution_count": 245,
   "metadata": {},
   "outputs": [],
   "source": [
    "class Board:\n",
    "    def __init__(self):\n",
    "        self._point_count = Counter()\n",
    "\n",
    "    def put(self, x1, y1, x2, y2, with_diagonals=False):\n",
    "        def get_range_for(c1, c2):\n",
    "            if c1 == c2:\n",
    "                return repeat(c1)\n",
    "            elif c1 > c2:\n",
    "                return range(c1, c2 - 1, -1)\n",
    "            else:\n",
    "                return range(c1, c2 + 1, 1)\n",
    "\n",
    "        range_x = get_range_for(x1, x2)\n",
    "        range_y = get_range_for(y1, y2)\n",
    "\n",
    "        if (not with_diagonals and x1 != x2 and y1 != y2):\n",
    "            return\n",
    "\n",
    "        for x, y in zip(range_x, range_y):\n",
    "            self._point_count.update({(x, y): 1})\n",
    "\n",
    "    def overlaps(self):\n",
    "        return set(p for p, n in self._point_count.items() if n >= 2)\n",
    "\n",
    "\n",
    "@inputfunc(5)\n",
    "def input_5(*, f):\n",
    "    return [\n",
    "        tuple(\n",
    "            int(a)\n",
    "            for a in line.replace('->', ',').split(',')\n",
    "        )\n",
    "        for line in f\n",
    "    ]\n",
    "\n",
    "\n",
    "def find_overlaps(l, with_diagonals=False):\n",
    "    board = Board()\n",
    "    for t in l:\n",
    "        board.put(*t, with_diagonals=with_diagonals)\n",
    "    return len(board.overlaps())\n"
   ]
  },
  {
   "cell_type": "code",
   "execution_count": 246,
   "metadata": {},
   "outputs": [
    {
     "data": {
      "text/plain": [
       "5092"
      ]
     },
     "execution_count": 246,
     "metadata": {},
     "output_type": "execute_result"
    }
   ],
   "source": [
    "find_overlaps(input_5())\n"
   ]
  },
  {
   "cell_type": "code",
   "execution_count": 247,
   "metadata": {},
   "outputs": [
    {
     "data": {
      "text/plain": [
       "20484"
      ]
     },
     "execution_count": 247,
     "metadata": {},
     "output_type": "execute_result"
    }
   ],
   "source": [
    "find_overlaps(input_5(), with_diagonals=True)\n"
   ]
  },
  {
   "cell_type": "markdown",
   "metadata": {
    "jp-MarkdownHeadingCollapsed": true,
    "tags": []
   },
   "source": [
    "## Day 6\n",
    "\n",
    "numpy == chet\n",
    "\n",
    "Automorphisms of finite-dimensional real vector spaces are what plebeians call matrices."
   ]
  },
  {
   "cell_type": "code",
   "execution_count": 248,
   "metadata": {},
   "outputs": [],
   "source": [
    "@inputfunc(6, kind='single')\n",
    "def input_6(*, f):\n",
    "    return Counter(int(u) for u in f.split(','))\n",
    "\n",
    "\n",
    "def get_lanternfish(state, itn):\n",
    "    T = np.array([\n",
    "        [0, 1, 0, 0, 0, 0, 0, 0, 0],\n",
    "        [0, 0, 1, 0, 0, 0, 0, 0, 0],\n",
    "        [0, 0, 0, 1, 0, 0, 0, 0, 0],\n",
    "        [0, 0, 0, 0, 1, 0, 0, 0, 0],\n",
    "        [0, 0, 0, 0, 0, 1, 0, 0, 0],\n",
    "        [0, 0, 0, 0, 0, 0, 1, 0, 0],\n",
    "        [1, 0, 0, 0, 0, 0, 0, 1, 0],\n",
    "        [0, 0, 0, 0, 0, 0, 0, 0, 1],\n",
    "        [1, 0, 0, 0, 0, 0, 0, 0, 0]\n",
    "    ])\n",
    "\n",
    "    A = np.array([state.get(i, 0) for i in range(9)])\n",
    "    return np.sum(np.linalg.matrix_power(T, itn) @ A)\n"
   ]
  },
  {
   "cell_type": "code",
   "execution_count": 249,
   "metadata": {},
   "outputs": [
    {
     "data": {
      "text/plain": [
       "359344"
      ]
     },
     "execution_count": 249,
     "metadata": {},
     "output_type": "execute_result"
    }
   ],
   "source": [
    "get_lanternfish(input_6(), 80)\n"
   ]
  },
  {
   "cell_type": "code",
   "execution_count": 250,
   "metadata": {},
   "outputs": [
    {
     "data": {
      "text/plain": [
       "1629570219571"
      ]
     },
     "execution_count": 250,
     "metadata": {},
     "output_type": "execute_result"
    }
   ],
   "source": [
    "get_lanternfish(input_6(), 256)\n"
   ]
  },
  {
   "cell_type": "markdown",
   "metadata": {
    "jp-MarkdownHeadingCollapsed": true,
    "tags": []
   },
   "source": [
    "## Day 7\n",
    "\n",
    "math == chet\n",
    "\n",
    "Let $f_k(x)$ be the cost for the $k$-th crab to meet at $x$. Then the total cost $c(x) = \\sum_k f_k(x)$ is minimized only if:\n",
    "\n",
    "$$ \n",
    "    \\frac{\\partial}{\\partial x} \\sum_k f_k(x) = 0\n",
    "$$\n",
    "\n",
    "#### Case 1\n",
    "\n",
    "Let the initial position of the $k$-th crab be $p_k$, and let $N$ be the number of crabs. Then $f_k(x) = \\left| x - p_k\\right|$. The derivative of the total cost function is then:\n",
    "\n",
    "$$\n",
    "    \\frac{\\partial}{\\partial x} \\sum_k \\left| x - p_k \\right| =\n",
    "    \\sum_k \\sigma(x - p_k)\n",
    "$$\n",
    "\n",
    "Where $\\sigma$ is the sign function, that is, $\\sigma(0) = 0$ and $\\sigma(x) = x / |x|$ for all $x \\neq 0$. It trivially follows that $c^{\\prime}(x) = 0$ if and only if $x$ is a median of $\\{f_k\\}_k$. Before mathematicians get a fucking aneurism from this: yes, of course $c$ isn't continuous, but it's continuous everywhere except on a finite subset of $\\mathbb{R}$. It's trivial to check everything still works on those isolated points.\n",
    "\n",
    "#### Case 2\n",
    "\n",
    "Using the same notation as case 1, $f_k(x) = 1/2 \\left( \\left| x - p_k\\right| + \\left( x - p_k \\right)^{2} \\right)$. Therefore:\n",
    "\n",
    "$$\n",
    "    \\frac{\\partial c(x)}{\\partial x} = 0 \\Leftrightarrow \n",
    "    \\sum_k { \\sigma(x - p_k) + 2x - 2p_k} = 0 \\Leftrightarrow\n",
    "    \\sum_k { \\sigma(x - p_k) } + 2Nx - 2 \\sum_k p_k = 0\n",
    "$$\n",
    "\n",
    "Shifting around the terms we get:\n",
    "\n",
    "$$\n",
    "    \\frac{\\partial c(x)}{\\partial x} = 0 \\Leftrightarrow\n",
    "    x = \\frac{1}{N} \\sum_k p_k  - \\frac{1}{2N} \\sum_k \\sigma(x - f_k)\n",
    "$$\n",
    "\n",
    "At this point we have two options. We either proceed to prove in detail that because we are limited to choosing integral values of $x$ then it is possible to bound the set of candidate solutions to the equation to a compact subset of $\\mathbb{R}$ with inequalities and fancy stuff I'm supposed to know, or we 360 noscope yoloswag trust that the last term is _just too small to matter_.\n",
    "Hold my beer."
   ]
  },
  {
   "cell_type": "code",
   "execution_count": 251,
   "metadata": {},
   "outputs": [],
   "source": [
    "@inputfunc(7, kind='single')\n",
    "def input_7(*, f):\n",
    "    return [int(u) for u in f.split(',')]\n",
    "\n",
    "\n",
    "def cost_linear(i):\n",
    "    m = int(median(i))\n",
    "    return sum(abs(x - m) for x in i)\n",
    "\n",
    "\n",
    "def cost_quadratic(i):\n",
    "    def cost_for_crab(x, m):\n",
    "        d = abs(x - m)\n",
    "        return d * (d + 1) // 2\n",
    "\n",
    "    # The mean is not guaranteed to be integral.\n",
    "    # We simply \"try\" both the lower integer part and the\n",
    "    # higher integer part and keep the best.\n",
    "    al, ar = floor(mean(i)), ceil(mean(i))\n",
    "    return min(\n",
    "        sum(cost_for_crab(x, al) for x in i),\n",
    "        sum(cost_for_crab(x, ar) for x in i)\n",
    "    )\n"
   ]
  },
  {
   "cell_type": "code",
   "execution_count": 252,
   "metadata": {},
   "outputs": [
    {
     "data": {
      "text/plain": [
       "344605"
      ]
     },
     "execution_count": 252,
     "metadata": {},
     "output_type": "execute_result"
    }
   ],
   "source": [
    "cost_linear(input_7())\n"
   ]
  },
  {
   "cell_type": "code",
   "execution_count": 253,
   "metadata": {},
   "outputs": [
    {
     "data": {
      "text/plain": [
       "93699985"
      ]
     },
     "execution_count": 253,
     "metadata": {},
     "output_type": "execute_result"
    }
   ],
   "source": [
    "cost_quadratic(input_7())\n"
   ]
  },
  {
   "cell_type": "markdown",
   "metadata": {
    "jp-MarkdownHeadingCollapsed": true,
    "tags": []
   },
   "source": [
    "## Day 8"
   ]
  },
  {
   "cell_type": "code",
   "execution_count": 254,
   "metadata": {},
   "outputs": [],
   "source": [
    "@dataclass\n",
    "class DisplayInstance:\n",
    "    patterns: list[set[str]]\n",
    "    outputs: list[set[str]]\n",
    "\n",
    "    def get_output_value(self):\n",
    "        patterns_bylen = {\n",
    "            n: [set(x) for x in self.patterns if len(x) == n]\n",
    "            for n in {2, 3, 4, 5, 6, 7}\n",
    "        }\n",
    "\n",
    "        x = [None] * 10\n",
    "\n",
    "        # The pattern with 2 segments must be a one.\n",
    "        x[1] = next(iter(patterns_bylen[2]))\n",
    "\n",
    "        # The pattern with 3 segments must be a seven.\n",
    "        x[7] = next(iter(patterns_bylen[3]))\n",
    "\n",
    "        # The pattern with 4 segments must be a four.\n",
    "        x[4] = next(iter(patterns_bylen[4]))\n",
    "\n",
    "        # The pattern with 7 segments must be an eight.\n",
    "        x[8] = next(iter(patterns_bylen[7]))\n",
    "\n",
    "        # The patterns with 6 segments bust represent\n",
    "        # zero, six and nine.\n",
    "        for p in patterns_bylen[6]:\n",
    "            # Nine is the only one that \"contains\" a four.\n",
    "            if p > x[4]:\n",
    "                x[9] = p\n",
    "            # If it's not a nine, it's either a zero or a six.\n",
    "            # Zero \"contains\" a one, and six doesn't.\n",
    "            elif p > x[1]:\n",
    "                x[0] = p\n",
    "            else:\n",
    "                x[6] = p\n",
    "\n",
    "        # The remaining patterns with 5 segments must\n",
    "        # represent two, three and five.\n",
    "        for p in patterns_bylen[5]:\n",
    "            # Three is the only one that \"contains\" a one.\n",
    "            if p > x[1]:\n",
    "                x[3] = p\n",
    "            # If it's not a three, it's either a five or a two.\n",
    "            # Six \"contains\" a five, but not a two.\n",
    "            elif x[6] > p:\n",
    "                x[5] = p\n",
    "            else:\n",
    "                x[2] = p\n",
    "\n",
    "        return sum(\n",
    "            n * 10**e\n",
    "            for e, p in enumerate(reversed(self.outputs))\n",
    "            for n, i in enumerate(x)\n",
    "            if i == p\n",
    "        )\n",
    "\n",
    "\n",
    "@inputfunc(8)\n",
    "def input_8(*, f):\n",
    "    return [\n",
    "        DisplayInstance(*[\n",
    "            [set(u) for u in x.strip().split()]\n",
    "            for x in l.split('|')\n",
    "        ])\n",
    "        for l in f\n",
    "    ]\n"
   ]
  },
  {
   "cell_type": "code",
   "execution_count": 255,
   "metadata": {},
   "outputs": [
    {
     "data": {
      "text/plain": [
       "521"
      ]
     },
     "execution_count": 255,
     "metadata": {},
     "output_type": "execute_result"
    }
   ],
   "source": [
    "sum(sum(1 for u in x.outputs if len(u) in {2, 3, 4, 7}) for x in input_8())\n"
   ]
  },
  {
   "cell_type": "code",
   "execution_count": 256,
   "metadata": {},
   "outputs": [
    {
     "data": {
      "text/plain": [
       "1016804"
      ]
     },
     "execution_count": 256,
     "metadata": {},
     "output_type": "execute_result"
    }
   ],
   "source": [
    "sum(x.get_output_value() for x in input_8())\n"
   ]
  },
  {
   "cell_type": "markdown",
   "metadata": {
    "jp-MarkdownHeadingCollapsed": true,
    "tags": []
   },
   "source": [
    "## Day 9"
   ]
  },
  {
   "cell_type": "code",
   "execution_count": 257,
   "metadata": {},
   "outputs": [],
   "source": [
    "class HeightMap:\n",
    "    def __init__(self, matrix):\n",
    "        self._matrix = matrix\n",
    "        self._width = len(matrix)\n",
    "        self._height = len(matrix[0])\n",
    "\n",
    "    def point(self, x, y):\n",
    "        return self._matrix[x][y]\n",
    "\n",
    "    def get_neighbors_of(self, x, y):\n",
    "        return [\n",
    "            (x+dx, y+dy, self.point(x+dx, y+dy))\n",
    "            for dx, dy in {(1, 0), (-1, 0), (0, 1), (0, -1)}\n",
    "            if 0 <= x+dx < self._width and 0 <= y+dy < self._height\n",
    "        ]\n",
    "\n",
    "    def get_basin_of(self, x, y):\n",
    "        seen = {(x, y)}\n",
    "        q = [(x, y, self.point(x, y))]\n",
    "        while len(q) != 0:\n",
    "            x, y, p = q.pop()\n",
    "            for x1, y1, p1 in self.get_neighbors_of(x, y):\n",
    "                if (x1, y1) not in seen and p1 > p and p1 != 9:\n",
    "                    q.append((x1, y1, p1))\n",
    "                    seen.add((x1, y1))\n",
    "        return seen\n",
    "\n",
    "    def get_lowpoints(self):\n",
    "        return [\n",
    "            (x, y, self.point(x, y))\n",
    "            for x in range(self._width)\n",
    "            for y in range(self._height)\n",
    "            if all(self.point(x, y) < v for _, _, v in self.get_neighbors_of(x, y))\n",
    "        ]\n",
    "\n",
    "\n",
    "@inputfunc(9)\n",
    "def input_9(*, f):\n",
    "    return [[int(c) for c in x] for x in f]\n"
   ]
  },
  {
   "cell_type": "code",
   "execution_count": 258,
   "metadata": {},
   "outputs": [
    {
     "data": {
      "text/plain": [
       "456"
      ]
     },
     "execution_count": 258,
     "metadata": {},
     "output_type": "execute_result"
    }
   ],
   "source": [
    "def sum_lowpoints(i):\n",
    "    hm = HeightMap(i)\n",
    "    return sum(1 + p for _, _, p in hm.get_lowpoints())\n",
    "\n",
    "\n",
    "sum_lowpoints(input_9())\n"
   ]
  },
  {
   "cell_type": "code",
   "execution_count": 259,
   "metadata": {},
   "outputs": [
    {
     "data": {
      "text/plain": [
       "1047744"
      ]
     },
     "execution_count": 259,
     "metadata": {},
     "output_type": "execute_result"
    }
   ],
   "source": [
    "def largest_basins(i, n):\n",
    "    hm = HeightMap(i)\n",
    "    basins_sizes = [len(hm.get_basin_of(x, y))\n",
    "                    for x, y, _ in hm.get_lowpoints()]\n",
    "    return prod(sorted(basins_sizes, reverse=True)[:n])\n",
    "\n",
    "\n",
    "largest_basins(input_9(), 3)\n"
   ]
  },
  {
   "cell_type": "markdown",
   "metadata": {
    "jp-MarkdownHeadingCollapsed": true,
    "tags": []
   },
   "source": [
    "## Day 10"
   ]
  },
  {
   "cell_type": "code",
   "execution_count": 260,
   "metadata": {},
   "outputs": [],
   "source": [
    "@inputfunc(10)\n",
    "def input_10(*, f):\n",
    "    return f\n",
    "\n",
    "\n",
    "@dataclass\n",
    "class UnmatchedChar:\n",
    "    char: str\n",
    "\n",
    "    def score(self):\n",
    "        scores = {\n",
    "            ')': 3,\n",
    "            ']': 57,\n",
    "            '}': 1197,\n",
    "            '>': 25137\n",
    "        }\n",
    "        return scores[self.char]\n",
    "\n",
    "\n",
    "@dataclass\n",
    "class IncompleteLine:\n",
    "    char: list[str]\n",
    "\n",
    "    def score(self):\n",
    "        scr = str.maketrans('([{<', '1234')\n",
    "        return int(''.join(self.char).translate(scr)[::-1], 5)\n",
    "\n",
    "\n",
    "def check_line(i):\n",
    "    chars = {\n",
    "        '(': ')',\n",
    "        '[': ']',\n",
    "        '{': '}',\n",
    "        '<': '>'\n",
    "    }\n",
    "\n",
    "    def is_opening(c):\n",
    "        return c in chars.keys()\n",
    "\n",
    "    s = []\n",
    "    for c in i:\n",
    "        if is_opening(c):\n",
    "            s.append(c)\n",
    "        else:\n",
    "            if c != chars[s.pop()]:\n",
    "                return UnmatchedChar(c)\n",
    "\n",
    "    return IncompleteLine(s)\n"
   ]
  },
  {
   "cell_type": "code",
   "execution_count": 261,
   "metadata": {},
   "outputs": [
    {
     "data": {
      "text/plain": [
       "319329"
      ]
     },
     "execution_count": 261,
     "metadata": {},
     "output_type": "execute_result"
    }
   ],
   "source": [
    "def syntax_all(i):\n",
    "    res = [check_line(l) for l in i]\n",
    "    return sum(u.score() for u in res if isinstance(u, UnmatchedChar))\n",
    "\n",
    "\n",
    "syntax_all(input_10())\n"
   ]
  },
  {
   "cell_type": "code",
   "execution_count": 262,
   "metadata": {},
   "outputs": [
    {
     "data": {
      "text/plain": [
       "3515583998"
      ]
     },
     "execution_count": 262,
     "metadata": {},
     "output_type": "execute_result"
    }
   ],
   "source": [
    "def autocomplete_all(i):\n",
    "    res = [check_line(l) for l in i]\n",
    "    return median(u.score() for u in res if isinstance(u, IncompleteLine))\n",
    "\n",
    "\n",
    "autocomplete_all(input_10())\n"
   ]
  },
  {
   "cell_type": "markdown",
   "metadata": {
    "jp-MarkdownHeadingCollapsed": true,
    "tags": []
   },
   "source": [
    "## Day 11"
   ]
  },
  {
   "cell_type": "code",
   "execution_count": 263,
   "metadata": {},
   "outputs": [],
   "source": [
    "@inputfunc(11)\n",
    "def input_11(*, f):\n",
    "    return np.array([[int(u) for u in s.strip()] for s in f])\n",
    "\n",
    "\n",
    "def convolution(M, K, T=np.int64):\n",
    "    mx, my = M.shape\n",
    "    kx, ky = K.shape\n",
    "    px = mx + 2 * (kx - 1)\n",
    "    py = my + 2 * (ky - 1)\n",
    "    P = np.zeros((px, py), T)\n",
    "    P[kx-1:mx+kx-1, ky-1:my+ky-1] = M\n",
    "    O = np.zeros((mx + kx - 1, my + ky - 1), T)\n",
    "\n",
    "    for y in range(my + ky - 1):\n",
    "        for x in range(mx + kx - 1):\n",
    "            O[x, y] = (K * P[x:x+kx, y:y+ky]).sum()\n",
    "\n",
    "    return O\n",
    "\n",
    "\n",
    "def time_step(i, T=np.int64):\n",
    "    K = np.array([[1, 1, 1], [1, 0, 1], [1, 1, 1]], T)\n",
    "    count_fired = 0\n",
    "    elegible = np.ones(i.shape, bool)\n",
    "    i += np.ones(i.shape, T)\n",
    "    fired = np.zeros(i.shape, T) + np.ones(i.shape, T) * (i > 9) * elegible\n",
    "    while fired.sum() > 0:\n",
    "        count_fired += fired.sum()\n",
    "        elegible &= (fired <= 0)\n",
    "        i += convolution(fired, K)[1:-1, 1:-1]\n",
    "        fired = np.zeros(i.shape, T) + np.ones(i.shape, T) * (i > 9) * elegible\n",
    "\n",
    "    return i * np.ones(i.shape, T) * (i < 10), count_fired\n"
   ]
  },
  {
   "cell_type": "code",
   "execution_count": 264,
   "metadata": {},
   "outputs": [
    {
     "data": {
      "text/plain": [
       "1661"
      ]
     },
     "execution_count": 264,
     "metadata": {},
     "output_type": "execute_result"
    }
   ],
   "source": [
    "def count_fired_over_ts(i, n):\n",
    "    count_fired = 0\n",
    "    for _ in range(n):\n",
    "        i, n = time_step(i)\n",
    "        count_fired += n\n",
    "    return count_fired\n",
    "\n",
    "\n",
    "count_fired_over_ts(input_11(), 100)\n"
   ]
  },
  {
   "cell_type": "code",
   "execution_count": 265,
   "metadata": {},
   "outputs": [
    {
     "data": {
      "text/plain": [
       "334"
      ]
     },
     "execution_count": 265,
     "metadata": {},
     "output_type": "execute_result"
    }
   ],
   "source": [
    "def find_first_sync(i):\n",
    "    for j in count(1):\n",
    "        i, _ = time_step(i)\n",
    "        if i.sum() == 0:\n",
    "            return j\n",
    "\n",
    "\n",
    "find_first_sync(input_11())\n"
   ]
  },
  {
   "cell_type": "markdown",
   "metadata": {},
   "source": [
    "## Day 12"
   ]
  },
  {
   "cell_type": "code",
   "execution_count": 266,
   "metadata": {},
   "outputs": [],
   "source": [
    "@dataclass\n",
    "class Node:\n",
    "    label: str\n",
    "    kind: str\n",
    "    adj: list\n",
    "\n",
    "\n",
    "@inputfunc(12)\n",
    "def input_12(*, f):\n",
    "    nodes = {\n",
    "        'start': Node('start', 'start', []),\n",
    "        'end': Node('end', 'end', [])\n",
    "    }\n",
    "\n",
    "    def node_kind(s):\n",
    "        if s == 'start' or s == 'end':\n",
    "            return s\n",
    "        elif s.isupper():\n",
    "            return 'big'\n",
    "        else:\n",
    "            return 'small'\n",
    "\n",
    "    for l in f:\n",
    "        u, v = l.split('-')\n",
    "        un = nodes.get(u, Node(u, node_kind(u), []))\n",
    "        vn = nodes.get(v, Node(v, node_kind(v), []))\n",
    "        un.adj.append(v)\n",
    "        vn.adj.append(u)\n",
    "        nodes[u] = un\n",
    "        nodes[v] = vn\n",
    "\n",
    "    return nodes\n"
   ]
  },
  {
   "cell_type": "code",
   "execution_count": 267,
   "metadata": {},
   "outputs": [
    {
     "data": {
      "text/plain": [
       "3495"
      ]
     },
     "execution_count": 267,
     "metadata": {},
     "output_type": "execute_result"
    }
   ],
   "source": [
    "def breadth_search_1(graph):\n",
    "    small = {}\n",
    "    for n, k in (\n",
    "        enumerate(k for k, v in graph.items() if v.kind == 'small')\n",
    "    ):\n",
    "        small[k] = 2 ** n\n",
    "\n",
    "    def visited(state):\n",
    "        return {k for k, v in small.items() if state & v}\n",
    "\n",
    "    Q = [(0, 'start')]\n",
    "    N = {(0, 'start'): 1}\n",
    "    acc = 0\n",
    "\n",
    "    while len(Q) != 0:\n",
    "        state, nodeid = Q.pop()\n",
    "        n = N[(state, nodeid)]\n",
    "        del N[(state, nodeid)]\n",
    "        for v in graph[nodeid].adj:\n",
    "            if v == 'start':\n",
    "                continue\n",
    "            if v == 'end':\n",
    "                acc += n\n",
    "                continue\n",
    "            if v in visited(state):\n",
    "                continue\n",
    "            nstate = state | small.get(v, 0)\n",
    "            if (nstate, v) in N:\n",
    "                N[(nstate, v)] += n\n",
    "            else:\n",
    "                Q.append((nstate, v))\n",
    "                N[(nstate, v)] = n\n",
    "\n",
    "    return acc\n",
    "\n",
    "\n",
    "breadth_search_1(input_12())\n"
   ]
  },
  {
   "cell_type": "code",
   "execution_count": 268,
   "metadata": {},
   "outputs": [
    {
     "data": {
      "text/plain": [
       "94849"
      ]
     },
     "execution_count": 268,
     "metadata": {},
     "output_type": "execute_result"
    }
   ],
   "source": [
    "def breadth_search_2(graph):\n",
    "    small = {}\n",
    "    for n, k in (\n",
    "        enumerate(k for k, v in graph.items() if v.kind == 'small')\n",
    "    ):\n",
    "        small[k] = 2 ** n\n",
    "\n",
    "    def visited(state):\n",
    "        return {k for k, v in small.items() if state & v}\n",
    "\n",
    "    Q = [(0, False, 'start')]\n",
    "    N = {(0, False, 'start'): 1}\n",
    "    acc = 0\n",
    "\n",
    "    while len(Q) != 0:\n",
    "        state, double, nodeid = Q.pop()\n",
    "        n = N[(state, double, nodeid)]\n",
    "        del N[(state, double, nodeid)]\n",
    "        for v in graph[nodeid].adj:\n",
    "            if v == 'start':\n",
    "                continue\n",
    "            if v == 'end':\n",
    "                acc += n\n",
    "                continue\n",
    "            if v in visited(state):\n",
    "                if double:\n",
    "                    continue\n",
    "                else:\n",
    "                    ndouble = True\n",
    "            else:\n",
    "                ndouble = double\n",
    "            nstate = state | small.get(v, 0)\n",
    "            if (nstate, ndouble, v) in N:\n",
    "                N[(nstate, ndouble, v)] += n\n",
    "            else:\n",
    "                Q.append((nstate, ndouble, v))\n",
    "                N[(nstate, ndouble, v)] = n\n",
    "\n",
    "    return acc\n",
    "\n",
    "\n",
    "breadth_search_2(input_12())\n"
   ]
  },
  {
   "cell_type": "markdown",
   "metadata": {
    "jp-MarkdownHeadingCollapsed": true,
    "tags": []
   },
   "source": [
    "## Day 13"
   ]
  },
  {
   "cell_type": "code",
   "execution_count": 269,
   "metadata": {},
   "outputs": [],
   "source": [
    "@inputfunc(13)\n",
    "def input_13(*, f):\n",
    "    dots, folds = [], []\n",
    "    for s in f:\n",
    "        if s.startswith('fold'):\n",
    "            _, _, d, n = s.replace('=', ' ').split(' ')\n",
    "            folds.append((d, int(n)))\n",
    "        elif s != '':\n",
    "            y, x = s.split(',')\n",
    "            dots.append((int(x), int(y)))\n",
    "    sx, sy = 1 + max(x for x, _ in dots), 1 + max(y for _, y in dots)\n",
    "    M = np.zeros((sx+1 - sx % 2, sy+1 - sy % 2), bool)\n",
    "    for p in dots:\n",
    "        M[p] = True\n",
    "\n",
    "    return M, folds\n",
    "\n",
    "\n",
    "def fold_along(M, s, n):\n",
    "    if s == 'y':\n",
    "        G, H = M[:n, :], np.flipud(M[n+1:, ])\n",
    "    elif s == 'x':\n",
    "        G, H = M[:, :n], np.fliplr(M[:, n+1:])\n",
    "    return G | H\n",
    "\n",
    "\n",
    "def fold_along_all(M, l):\n",
    "    return reduce(lambda X, f: fold_along(X, *f), folds, M)\n"
   ]
  },
  {
   "cell_type": "code",
   "execution_count": 270,
   "metadata": {},
   "outputs": [
    {
     "data": {
      "text/plain": [
       "666"
      ]
     },
     "execution_count": 270,
     "metadata": {},
     "output_type": "execute_result"
    }
   ],
   "source": [
    "M, folds = input_13()\n",
    "fold_along(M, *folds[0]).sum()\n"
   ]
  },
  {
   "cell_type": "code",
   "execution_count": 271,
   "metadata": {
    "scrolled": true
   },
   "outputs": [
    {
     "name": "stdout",
     "output_type": "stream",
     "text": [
      " OO    OO O  O  OO  OOOO O  O O  O O  O \n",
      "O  O    O O  O O  O    O O  O O O  O  O \n",
      "O       O OOOO O  O   O  OOOO OO   O  O \n",
      "O       O O  O OOOO  O   O  O O O  O  O \n",
      "O  O O  O O  O O  O O    O  O O O  O  O \n",
      " OO   OO  O  O O  O OOOO O  O O  O  OO  \n"
     ]
    }
   ],
   "source": [
    "M, folds = input_13()\n",
    "folded = fold_along_all(M, folds)\n",
    "sx, sy = folded.shape\n",
    "for x in range(sx):\n",
    "    s = \"\"\n",
    "    for y in range(sy):\n",
    "        s += \"O\" if folded[x, y] else \" \"\n",
    "    print(s)\n"
   ]
  },
  {
   "cell_type": "markdown",
   "metadata": {},
   "source": [
    "This is absolutely metal, as always, advent of code doesn't disappoint!"
   ]
  },
  {
   "cell_type": "markdown",
   "metadata": {},
   "source": [
    "## Day 14\n",
    "\n",
    "Yet again, linear algebra. Pairs of consecutive letters are the dimesions of the vector space, the number of occurences of each pair at a given iteration is a vector, and the transformation map defines a linear map over vectors. Let $m$ be the size of the alphabet and let $n$ be the number of iterations. There are two solutions with an interesting tradeoff:\n",
    "\n",
    "* Represent the initial vector $v$ as an array, and manually apply $n$ times the morphism. This has a time complexity of $\\Theta(m^2n)$.\n",
    "\n",
    "* Represent the linear map as a $m \\times m$ matrix, compute $M^n$, then multiply it by the initial vector. This has a time complexity of $\\Theta(m^3 \\log{n})$.\n",
    "\n",
    "Both solutions have a space complexity of $\\Theta(n^2)$. I'll do the second because it's more interesting. I also believe it's much more efficient in practice as it can fully take advantage of vectorization intrinsics and is generally very tight: just plain math, no hashtable lookups.\n",
    "\n",
    "The actual solution is one line, everything else is just shuffling around data."
   ]
  },
  {
   "cell_type": "code",
   "execution_count": 272,
   "metadata": {},
   "outputs": [],
   "source": [
    "@inputfunc(14)\n",
    "def input_14(*, f):\n",
    "    m = {}\n",
    "    init, l_start, l_end = None, None, None\n",
    "    for l in f:\n",
    "        if not init:\n",
    "            init = [*zip(l, l[1:])]\n",
    "            l_start, l_end = l[0], l[-1]\n",
    "            continue\n",
    "        if l == '':\n",
    "            continue\n",
    "        (u1, u2), v = l.replace('->', ' ').split()\n",
    "        m[(u1, u2)] = ((u1, v), (v, u2))\n",
    "\n",
    "    num = {e: n for n, e in enumerate(m)}\n",
    "\n",
    "    M = np.zeros((len(num), len(num)), np.int64)\n",
    "    V = np.zeros(len(num), np.int64)\n",
    "\n",
    "    for u, (v1, v2) in m.items():\n",
    "        M[num[v1], num[u]] += 1\n",
    "        M[num[v2], num[u]] += 1\n",
    "\n",
    "    for u in init:\n",
    "        V[num[u]] += 1\n",
    "\n",
    "    return M, V, l_start, l_end, {n: e for e, n in num.items()}\n",
    "\n",
    "\n",
    "def polymer_count_after(steps, M, V, l_start, l_end, d):\n",
    "    F = np.linalg.matrix_power(M, steps) @ V\n",
    "    C = Counter({l_start: 1, l_end: 1})\n",
    "    for i, n in enumerate(F):\n",
    "        v1, v2 = d[i]\n",
    "        C.update({v1: n})\n",
    "        C.update({v2: n})\n",
    "\n",
    "    return C\n"
   ]
  },
  {
   "cell_type": "code",
   "execution_count": 273,
   "metadata": {},
   "outputs": [
    {
     "data": {
      "text/plain": [
       "3906"
      ]
     },
     "execution_count": 273,
     "metadata": {},
     "output_type": "execute_result"
    }
   ],
   "source": [
    "C = polymer_count_after(10, *input_14())\n",
    "max(u//2 for _, u in C.items()) - min(u//2 for _, u in C.items())\n"
   ]
  },
  {
   "cell_type": "code",
   "execution_count": 274,
   "metadata": {},
   "outputs": [
    {
     "data": {
      "text/plain": [
       "4441317262452"
      ]
     },
     "execution_count": 274,
     "metadata": {},
     "output_type": "execute_result"
    }
   ],
   "source": [
    "C = polymer_count_after(40, *input_14())\n",
    "max(u//2 for _, u in C.items()) - min(u//2 for _, u in C.items())\n"
   ]
  },
  {
   "cell_type": "markdown",
   "metadata": {},
   "source": [
    "## Day 15"
   ]
  },
  {
   "cell_type": "code",
   "execution_count": 275,
   "metadata": {},
   "outputs": [],
   "source": [
    "class WrappingHeightMap:\n",
    "    def __init__(self, matrix, wrap_max = 1):\n",
    "        self._matrix = np.array(matrix, np.uint32)\n",
    "        mx, my = self._matrix.shape\n",
    "        self._wrap_matrix = np.empty((mx * wrap_max, my * wrap_max), np.uint32)\n",
    "        for i in range(wrap_max):\n",
    "            for j in range(wrap_max):\n",
    "                self._wrap_matrix[i*mx:(i+1)*mx, j*my:(j+1)*my] = (self._matrix + i + j - 1) % 9 + 1\n",
    "\n",
    "    def shape(self):\n",
    "        return self._matrix.shape\n",
    "\n",
    "    def wrap_shape(self):\n",
    "        return self._wrap_matrix.shape\n",
    "\n",
    "    def get_neighbors_of(self, x, y):\n",
    "        ww, wh = self._wrap_matrix.shape\n",
    "        n = []\n",
    "        if x != 0:\n",
    "            n.append((x-1, y, self._wrap_matrix[x-1, y]))\n",
    "        if x != ww - 1:\n",
    "            n.append((x+1, y, self._wrap_matrix[x+1, y]))\n",
    "        if y != 0:\n",
    "            n.append((x, y-1, self._wrap_matrix[x, y-1]))\n",
    "        if y != wh - 1:\n",
    "            n.append((x, y+1, self._wrap_matrix[x, y+1]))\n",
    "        return n\n",
    "\n",
    "\n",
    "class PriorityQueue:\n",
    "    def __init__(self):\n",
    "        self._H = []\n",
    "        self._map = {}\n",
    "        self._len = 0\n",
    "\n",
    "    def __len__(self):\n",
    "        return self._len\n",
    "\n",
    "    def _parent(self, n):\n",
    "        if n == 0:\n",
    "            return None\n",
    "        else:\n",
    "            w = n + 1\n",
    "            return w // 2 - 1\n",
    "\n",
    "    def _children(self, n):\n",
    "        if self._len > 2 * n + 2:\n",
    "            return 2 * n + 1, 2 * n + 2\n",
    "        elif self._len == 2 * n + 2:\n",
    "            return 2 * n + 1, None\n",
    "        else:\n",
    "            return None, None\n",
    "\n",
    "    def _swap(self, a, b):\n",
    "        self._map[self._H[a][1]], self._map[self._H[b][1]] = b, a\n",
    "        self._H[a], self._H[b] = self._H[b], self._H[a]\n",
    "        \n",
    "    def _heap_decrease(self, n, r):\n",
    "        self._H[n] = r\n",
    "        p = self._parent(n)\n",
    "\n",
    "        while p != None and self._H[n] < self._H[p]:\n",
    "            self._swap(n, p)\n",
    "            n, p = p, self._parent(p)\n",
    "\n",
    "    def __contains__(self, val):\n",
    "        return val in self._map\n",
    "\n",
    "    def insert(self, prio, val):\n",
    "        self._H.append(None)\n",
    "        self._map[val] = self._len\n",
    "        self._heap_decrease(self._len, (prio, val))\n",
    "        self._len += 1\n",
    "\n",
    "    def peek(self):\n",
    "        return self._H[0]\n",
    "\n",
    "    def extract(self):\n",
    "        top_prio, top_val = self._H[0]\n",
    "        self._swap(0, self._len - 1)\n",
    "        del self._H[-1]\n",
    "        del self._map[top_val]\n",
    "        self._len -= 1\n",
    "        c, (l, r) = 0, self._children(0)\n",
    "\n",
    "        while l or r:\n",
    "            cprio, _ = self._H[c]\n",
    "            lprio, _ = self._H[l] if l else (inf, inf)\n",
    "            rprio, _ = self._H[r] if r else (inf, inf)\n",
    "\n",
    "            if cprio <= lprio and cprio <= rprio:\n",
    "                break \n",
    "            elif lprio < rprio:\n",
    "                self._swap(c, l)\n",
    "                c = l\n",
    "            else:\n",
    "                self._swap(c, r)\n",
    "                c = r\n",
    "\n",
    "            l, r = self._children(c)\n",
    "\n",
    "        return top_prio, top_val\n",
    "\n",
    "    def decrease_prio(self, newprio, val):\n",
    "        idx = self._map[val]\n",
    "        prio, _ = self._H[idx]\n",
    "        self._heap_decrease(idx, (newprio, val))\n",
    "        \n",
    "\n",
    "def dijkstra(f, wrap_max):\n",
    "    m = WrappingHeightMap(f, wrap_max=wrap_max)\n",
    "    start = (0, 0)\n",
    "    target = tuple(d - 1 for d in m.wrap_shape())\n",
    "\n",
    "    M = {(start): 0}\n",
    "    Q = PriorityQueue()\n",
    "    Q.insert(0, (0, 0))\n",
    "    \n",
    "    while len(Q) != 0:\n",
    "        v, (x, y) = Q.extract()\n",
    "\n",
    "        for xn, yn, vn in m.get_neighbors_of(x, y):\n",
    "            if v + vn >= M.get((xn, yn), inf):\n",
    "                continue\n",
    "\n",
    "            M[(xn, yn)] = v + vn\n",
    "\n",
    "            if (xn, yn) in Q:\n",
    "                Q.decrease_prio(v + vn, (xn, yn))\n",
    "            else:\n",
    "                Q.insert(v + vn, (xn, yn))\n",
    "            \n",
    "        if (x, y) == target:\n",
    "            return M[(x, y)]\n",
    "\n",
    "    return inf\n",
    "\n",
    "\n",
    "@inputfunc(15)\n",
    "def input_15(*, f):\n",
    "    return [[int(n) for n in x] for x in f]\n"
   ]
  },
  {
   "cell_type": "code",
   "execution_count": 276,
   "metadata": {},
   "outputs": [
    {
     "data": {
      "text/plain": [
       "619"
      ]
     },
     "execution_count": 276,
     "metadata": {},
     "output_type": "execute_result"
    }
   ],
   "source": [
    "dijkstra(input_15(), 1)\n"
   ]
  },
  {
   "cell_type": "code",
   "execution_count": 277,
   "metadata": {},
   "outputs": [
    {
     "data": {
      "text/plain": [
       "2922"
      ]
     },
     "execution_count": 277,
     "metadata": {},
     "output_type": "execute_result"
    }
   ],
   "source": [
    "dijkstra(input_15(), 5)\n"
   ]
  }
 ],
 "metadata": {
  "interpreter": {
   "hash": "aee8b7b246df8f9039afb4144a1f6fd8d2ca17a180786b69acc140d282b71a49"
  },
  "kernelspec": {
   "display_name": "Python 3 (ipykernel)",
   "language": "python",
   "name": "python3"
  },
  "language_info": {
   "codemirror_mode": {
    "name": "ipython",
    "version": 3
   },
   "file_extension": ".py",
   "mimetype": "text/x-python",
   "name": "python",
   "nbconvert_exporter": "python",
   "pygments_lexer": "ipython3",
   "version": "3.10.0"
  },
  "toc-autonumbering": false,
  "toc-showcode": false,
  "toc-showmarkdowntxt": false,
  "toc-showtags": false
 },
 "nbformat": 4,
 "nbformat_minor": 4
}
